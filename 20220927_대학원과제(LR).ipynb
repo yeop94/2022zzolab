{
  "nbformat": 4,
  "nbformat_minor": 0,
  "metadata": {
    "colab": {
      "provenance": [],
      "authorship_tag": "ABX9TyMN3WmeedooqRoM7GAKLHg/",
      "include_colab_link": true
    },
    "kernelspec": {
      "name": "python3",
      "display_name": "Python 3"
    },
    "language_info": {
      "name": "python"
    }
  },
  "cells": [
    {
      "cell_type": "markdown",
      "metadata": {
        "id": "view-in-github",
        "colab_type": "text"
      },
      "source": [
        "<a href=\"https://colab.research.google.com/github/yeop94/2022zzolab/blob/main/20220927_%EB%8C%80%ED%95%99%EC%9B%90%EA%B3%BC%EC%A0%9C(LR).ipynb\" target=\"_parent\"><img src=\"https://colab.research.google.com/assets/colab-badge.svg\" alt=\"Open In Colab\"/></a>"
      ]
    },
    {
      "cell_type": "markdown",
      "source": [
        "## 대학원 과제!! 월요일까지 이메일로 보내기\n",
        "## Fill in 부분에 뭐가 들어가는지 알아오기"
      ],
      "metadata": {
        "id": "d2p9VD0Cu1x8"
      }
    },
    {
      "cell_type": "code",
      "execution_count": 6,
      "metadata": {
        "id": "13DP8lEPu0xz",
        "colab": {
          "base_uri": "https://localhost:8080/",
          "height": 1000
        },
        "outputId": "abc5d9b7-49c3-4866-a5cd-f5df4a31e840"
      },
      "outputs": [
        {
          "name": "stdout",
          "output_type": "stream",
          "text": [
            "[LR-03-4areas-slope.py] 4 Areas >> \n",
            "Xavg= 163.6   Yavg= 64.8\n",
            "\n",
            "DatN[]=\n",
            "[-13.647, -22.824]\n",
            "[-10.647, -13.824]\n",
            "[-8.647, -2.824]\n",
            "[-6.647, -14.824]\n",
            "[-6.647, 11.176]\n",
            "[-4.647, -19.824]\n",
            "[-2.647, 7.176]\n",
            "[-1.647, -8.824]\n",
            "[0.353, 0.176]\n",
            "[2.353, -14.824]\n",
            "[2.353, 7.176]\n",
            "[4.353, 10.176]\n",
            "[5.353, 17.176]\n",
            "[6.353, -1.824]\n",
            "[8.353, 8.176]\n",
            "[12.353, 23.176]\n",
            "[13.353, 15.176]\n",
            "\n",
            "for.i= 0 DatN[i]= [-13.64705882 -22.82352941]\n",
            "Number of data pts of Areas; [ 0 0 1 0 ]\n",
            "\n",
            "for.i= 1 DatN[i]= [-10.64705882 -13.82352941]\n",
            "Number of data pts of Areas; [ 0 0 2 0 ]\n",
            "\n",
            "for.i= 2 DatN[i]= [-8.64705882 -2.82352941]\n",
            "Number of data pts of Areas; [ 0 0 3 0 ]\n",
            "\n",
            "for.i= 3 DatN[i]= [ -6.64705882 -14.82352941]\n",
            "Number of data pts of Areas; [ 0 0 4 0 ]\n",
            "\n",
            "for.i= 4 DatN[i]= [-6.64705882 11.17647059]\n",
            "Number of data pts of Areas; [ 0 1 4 0 ]\n",
            "\n",
            "for.i= 5 DatN[i]= [ -4.64705882 -19.82352941]\n",
            "Number of data pts of Areas; [ 0 1 5 0 ]\n",
            "\n",
            "for.i= 6 DatN[i]= [-2.64705882  7.17647059]\n",
            "Number of data pts of Areas; [ 0 2 5 0 ]\n",
            "\n",
            "for.i= 7 DatN[i]= [-1.64705882 -8.82352941]\n",
            "Number of data pts of Areas; [ 0 2 6 0 ]\n",
            "\n",
            "for.i= 8 DatN[i]= [0.35294118 0.17647059]\n",
            "Number of data pts of Areas; [ 1 2 6 0 ]\n",
            "\n",
            "for.i= 9 DatN[i]= [  2.35294118 -14.82352941]\n",
            "Number of data pts of Areas; [ 1 2 6 1 ]\n",
            "\n",
            "for.i= 10 DatN[i]= [2.35294118 7.17647059]\n",
            "Number of data pts of Areas; [ 2 2 6 1 ]\n",
            "\n",
            "for.i= 11 DatN[i]= [ 4.35294118 10.17647059]\n",
            "Number of data pts of Areas; [ 3 2 6 1 ]\n",
            "\n",
            "for.i= 12 DatN[i]= [ 5.35294118 17.17647059]\n",
            "Number of data pts of Areas; [ 4 2 6 1 ]\n",
            "\n",
            "\n",
            "for.i= 13 DatN[i]= [ 6.35294118 -1.82352941]\n",
            "Number of data pts of Areas; [ 4 2 6 2 ]\n",
            "for.i= 14 DatN[i]= [8.35294118 8.17647059]\n",
            "Number of data pts of Areas; [ 5 2 6 2 ]\n",
            "\n",
            "for.i= 15 DatN[i]= [12.35294118 23.17647059]\n",
            "Number of data pts of Areas; [ 6 2 6 2 ]\n",
            "\n",
            "for.i= 16 DatN[i]= [13.35294118 15.17647059]\n",
            "Number of data pts of Areas; [ 7 2 6 2 ]\n",
            "\n"
          ]
        },
        {
          "output_type": "error",
          "ename": "NameError",
          "evalue": "ignored",
          "traceback": [
            "\u001b[0;31m---------------------------------------------------------------------------\u001b[0m",
            "\u001b[0;31mNameError\u001b[0m                                 Traceback (most recent call last)",
            "\u001b[0;32m<ipython-input-6-2441999d2b8b>\u001b[0m in \u001b[0;36m<module>\u001b[0;34m\u001b[0m\n\u001b[1;32m     80\u001b[0m  \u001b[0;31m##############  Fill-IN  #################\u001b[0m\u001b[0;34m\u001b[0m\u001b[0;34m\u001b[0m\u001b[0;34m\u001b[0m\u001b[0m\n\u001b[1;32m     81\u001b[0m \u001b[0;34m\u001b[0m\u001b[0m\n\u001b[0;32m---> 82\u001b[0;31m \u001b[0mprint\u001b[0m\u001b[0;34m(\u001b[0m\u001b[0;34m\"slope: a=\"\u001b[0m\u001b[0;34m,\u001b[0m\u001b[0ma\u001b[0m\u001b[0;34m)\u001b[0m        \u001b[0;31m# Ans; a=1\u001b[0m\u001b[0;34m\u001b[0m\u001b[0;34m\u001b[0m\u001b[0m\n\u001b[0m\u001b[1;32m     83\u001b[0m \u001b[0minput\u001b[0m\u001b[0;34m(\u001b[0m\u001b[0;34m)\u001b[0m\u001b[0;34m\u001b[0m\u001b[0;34m\u001b[0m\u001b[0m\n\u001b[1;32m     84\u001b[0m \u001b[0;34m\u001b[0m\u001b[0m\n",
            "\u001b[0;31mNameError\u001b[0m: name 'a' is not defined"
          ]
        }
      ],
      "source": [
        "\n",
        "#@@@@@@@@@@@@@@@@@@@@@@@@@@@\n",
        "\n",
        "print(\"[LR-03-4areas-slope.py] 4 Areas >> \")\n",
        "# four areas; area1(+,+), area2(-,+), area3(-,-), area4(+,-)\n",
        "# slope = 1 or -1\n",
        "\n",
        "import numpy as np\n",
        "\n",
        "#====================  SHOW_2Dim()  =====================\n",
        "def SHOW_2Dim(List):  \n",
        "    for L in List:        #e.g., L=[-13.6470,-22.8235]\n",
        "         out=[]\n",
        "         for D in L:      #e.g., [D=-13.6470, D=-22.8235]\n",
        "             out.append(round(D,3))  #e.g., [-13.647,-22.824]\n",
        "         #for.D\n",
        "         print(out)\n",
        "    #for.L\n",
        "#show_2dim()\n",
        "\n",
        "##################  Main  ########################\n",
        "\n",
        "        # Height, Weight Data; 17\n",
        "Dat = [ [150,42], [153,51], [155,62], [157,50], [157,76],\n",
        "        [159,45], [161,72], [162,56], [164,65], [166,50],\n",
        "        [166,72], [168,75], [169,82], [170,63], [172,73],\n",
        "        [176,88], [177,80]\n",
        "      ]  \n",
        "                     # 02-NormalizeData\n",
        "Num = len(Dat)\n",
        "\n",
        "    # (Xa, Ya); average pt \n",
        "Xsum = 0\n",
        "Ysum = 0\n",
        "\n",
        "for j in range(0,Num):   # j=0,1,2,...,Num-1\n",
        "    Xsum += Dat[j][0]\n",
        "    Ysum += Dat[j][1]\n",
        "#for.j\n",
        "\n",
        "Xavg = Xsum / Num    # 163.5\n",
        "Yavg = Ysum / Num    # 64.8\n",
        "print(\"Xavg=\",round(Xavg,1),\"  Yavg=\",round(Yavg,1))\n",
        "input()\n",
        "\n",
        "DatN = np.zeros((17,2))   # init.DatN to zeros\n",
        "\n",
        "for j in range(0,Num):\n",
        "    DatN[j][0] = Dat[j][0]-Xavg\n",
        "    DatN[j][1] = Dat[j][1]-Yavg\n",
        "#for.j\n",
        "#print(\"DatN[]=\",DatN)\n",
        "print(\"DatN[]=\")\n",
        "SHOW_2Dim(DatN)\n",
        "input()\n",
        "                       # 03-slope\n",
        " # four areas; area1(+,+), area2(-,+), area3(-,-), area4(+,-)\n",
        " #             Ans; 7,2,6,2\n",
        "\n",
        " ##############  (1) Fill-IN  #################\n",
        "area1 = 0\n",
        "area2 = 0\n",
        "area3 = 0\n",
        "area4 = 0\n",
        "for i in range(0,Num):\n",
        "  print(\"for.i=\",i,\"DatN[i]=\",DatN[i])\n",
        "  if (DatN[i][0] >= 0 and DatN[i][1] >= 0) :\n",
        "    area1 += 1\n",
        "  elif (DatN[i][0] < 0 and DatN[i][1] >= 0) :\n",
        "    area2 += 1\n",
        "  elif (DatN[i][0] < 0 and DatN[i][1] < 0) :\n",
        "    area3 += 1\n",
        "  else :\n",
        "    area4 += 1\n",
        "  print(\"Number of data pts of Areas; [\",area1,area2,area3,area4,\"]\")   # 7,2,6,2 로 나온다 #area1 , area3 은 경향성(기울기)이 + 인것, area2, area4는 경향성(기울기)이 - 인 것.\n",
        "  input()\n",
        "\n",
        "\n",
        "              # Compute slope a; a=1 or a=-1\n",
        "\n",
        " ##############  Fill-IN  #################\n",
        "\n",
        "print(\"slope: a=\",a)        # Ans; a=1\n",
        "input()\n",
        "\n",
        "print(\"###############  End of Program  ################\")\n",
        "\n",
        "#//"
      ]
    },
    {
      "cell_type": "code",
      "source": [
        "\n",
        "q\n",
        "\n"
      ],
      "metadata": {
        "id": "hbbcawHuZf8f"
      },
      "execution_count": null,
      "outputs": []
    }
  ]
}