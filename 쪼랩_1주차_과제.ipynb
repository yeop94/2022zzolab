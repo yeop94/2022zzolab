{
  "nbformat": 4,
  "nbformat_minor": 0,
  "metadata": {
    "colab": {
      "provenance": [],
      "authorship_tag": "ABX9TyN4zvYMTxttXrpu6Yb3HZ9E",
      "include_colab_link": true
    },
    "kernelspec": {
      "name": "python3",
      "display_name": "Python 3"
    },
    "language_info": {
      "name": "python"
    }
  },
  "cells": [
    {
      "cell_type": "markdown",
      "metadata": {
        "id": "view-in-github",
        "colab_type": "text"
      },
      "source": [
        "<a href=\"https://colab.research.google.com/github/yeop94/2022zzolab/blob/main/%EC%AA%BC%EB%9E%A9_1%EC%A3%BC%EC%B0%A8_%EA%B3%BC%EC%A0%9C.ipynb\" target=\"_parent\"><img src=\"https://colab.research.google.com/assets/colab-badge.svg\" alt=\"Open In Colab\"/></a>"
      ]
    },
    {
      "cell_type": "markdown",
      "source": [
        "# 쪼랩 1주차 과제 : 건강상태 자가진단 앱 만들어보기\n",
        "\n",
        "\n",
        "## 1)자가진단 키트 검사를 하지 않았고, 의심증상도 없다면 질문 하나로 설문을 끝내고 싶음\n",
        "## 2)의심증상이 있거나 자가진단 키트를 검사했을때만 다른 질문을 받고 싶음."
      ],
      "metadata": {
        "id": "vxEEZp21m1mV"
      }
    },
    {
      "cell_type": "code",
      "execution_count": null,
      "metadata": {
        "colab": {
          "base_uri": "https://localhost:8080/"
        },
        "id": "a0SyaMJsRlVS",
        "outputId": "11ded815-b378-4dc1-aa93-785bf29147ce"
      },
      "outputs": [
        {
          "output_type": "stream",
          "name": "stdout",
          "text": [
            "ID를 입력해주세요 :y\n",
            "PASSWORD를 입력해주세요 :2\n",
            "아이디를 확인해주세요.\n",
            "ID를 입력해주세요 :yeop94\n",
            "PASSWORD를 입력해주세요 :1234\n",
            "로그인 되셨습니다.\n",
            "건강상태 자가진단 설문을 시작하겠습니다.\n",
            "귀하는 오늘 신속항원검사(자가진단)을 실시하지 않았고, 현재 코로나19가 의심되는 임상증상이 없나요?(y/n): s\n",
            "귀하는 현재 코로나19가 의심되는 임상증상이 있나요? ex) 발열(37.5),기침, 호흡곤란, 오한, 근육통, 두통, 인후통, 후각손실 등(y/n) :d\n",
            "귀하는 오늘(어제 저녁 포함) 신속항원검사(자가진단)를 실시했나요?(양성/음성) :e\n",
            "설문 내용을 다시 정확하게 입력해주십시오.\n",
            "귀하는 현재 코로나19가 의심되는 임상증상이 있나요? ex) 발열(37.5),기침, 호흡곤란, 오한, 근육통, 두통, 인후통, 후각손실 등(y/n) :y\n",
            "귀하는 오늘(어제 저녁 포함) 신속항원검사(자가진단)를 실시했나요?(양성/음성) :음성\n",
            "출근이 불가능합니다. 가까운 병원에 방문하여 PCR검사 또는 신속항원검사를 받으십시오.\n"
          ]
        }
      ],
      "source": [
        "import time\n",
        "ID = 'yeop94'\n",
        "PS = '1234'\n",
        "\n",
        "while True :\n",
        "  ID_input = input('ID를 입력해주세요 :')\n",
        "  PS_input = input('PASSWORD를 입력해주세요 :')\n",
        "  time.sleep(1)\n",
        "\n",
        "  if ID == ID_input and PS == PS_input :\n",
        "    print('로그인 되셨습니다.') \n",
        "    break\n",
        "\n",
        "  elif ID != ID_input :\n",
        "    print('아이디를 확인해주세요.')\n",
        "  elif PS != PS_input :\n",
        "    print('비밀번호를 확인해주세요.')\n",
        "\n",
        "time.sleep(1)\n",
        "\n",
        "print('건강상태 자가진단 설문을 시작하겠습니다.')\n",
        "time.sleep(1)\n",
        "ans1 = input('귀하는 오늘 신속항원검사(자가진단)을 실시하지 않았고, 현재 코로나19가 의심되는 임상증상이 없나요?(y/n): ')\n",
        "\n",
        "while True :\n",
        "\n",
        "  if ans1 == 'y':\n",
        "    print('설문이 완료되었습니다. 출근이 가능합니다.')\n",
        "    break\n",
        "\n",
        "  else :\n",
        "    ans2 = input('귀하는 현재 코로나19가 의심되는 임상증상이 있나요? ex) 발열(37.5),기침, 호흡곤란, 오한, 근육통, 두통, 인후통, 후각손실 등(y/n) :')\n",
        "    ans3 = input('귀하는 오늘(어제 저녁 포함) 신속항원검사(자가진단)를 실시했나요?(양성/음성) :')\n",
        "\n",
        "    if ans2 == 'y' or ans3 == '양성':\n",
        "      print('출근이 불가능합니다. 가까운 병원에 방문하여 PCR검사 또는 신속항원검사를 받으십시오.')\n",
        "      break\n",
        "    \n",
        "    elif ans2 == 'n' and ans3 =='음성':\n",
        "      print('설문이 완료되었습니다. 출근이 가능합니다.')\n",
        "      break\n",
        "\n",
        "    else :\n",
        "      print('설문 내용을 다시 정확하게 입력해주십시오.')\n",
        "      time.sleep(1)\n",
        "\n"
      ]
    },
    {
      "cell_type": "markdown",
      "source": [],
      "metadata": {
        "id": "bGRn0QRgmymv"
      }
    },
    {
      "cell_type": "code",
      "source": [
        "\n"
      ],
      "metadata": {
        "id": "MAPGQ2mVV8EK"
      },
      "execution_count": null,
      "outputs": []
    },
    {
      "cell_type": "code",
      "source": [],
      "metadata": {
        "id": "2Qt0uW9ph_e4"
      },
      "execution_count": null,
      "outputs": []
    }
  ]
}