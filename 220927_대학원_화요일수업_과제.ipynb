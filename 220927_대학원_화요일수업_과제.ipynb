{
  "nbformat": 4,
  "nbformat_minor": 0,
  "metadata": {
    "colab": {
      "provenance": [],
      "authorship_tag": "ABX9TyPfZ/m3XR9BVqQrSPGrPif2",
      "include_colab_link": true
    },
    "kernelspec": {
      "name": "python3",
      "display_name": "Python 3"
    },
    "language_info": {
      "name": "python"
    }
  },
  "cells": [
    {
      "cell_type": "markdown",
      "metadata": {
        "id": "view-in-github",
        "colab_type": "text"
      },
      "source": [
        "<a href=\"https://colab.research.google.com/github/yeop94/2022zzolab/blob/main/220927_%EB%8C%80%ED%95%99%EC%9B%90_%ED%99%94%EC%9A%94%EC%9D%BC%EC%88%98%EC%97%85_%EA%B3%BC%EC%A0%9C.ipynb\" target=\"_parent\"><img src=\"https://colab.research.google.com/assets/colab-badge.svg\" alt=\"Open In Colab\"/></a>"
      ]
    },
    {
      "cell_type": "markdown",
      "source": [
        "## 대학원 과제!! 월요일까지 이메일로 보내기\n",
        "## Fill in 부분에 뭐가 들어갈지.... a = 1인지 a = -1 인지 어떻게 결정할 수 있는지 알아오기"
      ],
      "metadata": {
        "id": "d2p9VD0Cu1x8"
      }
    },
    {
      "cell_type": "code",
      "execution_count": null,
      "metadata": {
        "id": "13DP8lEPu0xz"
      },
      "outputs": [],
      "source": [
        "\n",
        "#@@@@@@@@@@@@@@@@@@@@@@@@@@@\n",
        "\n",
        "print(\"[LR-03-4areas-slope.py] 4 Areas >> \")\n",
        "# four areas; area1(+,+), area2(-,+), area3(-,-), area4(+,-)\n",
        "# slope = 1 or -1\n",
        "\n",
        "import numpy as np\n",
        "\n",
        "#====================  SHOW_2Dim()  =====================\n",
        "def SHOW_2Dim(List):  \n",
        "    for L in List:        #e.g., L=[-13.6470,-22.8235]\n",
        "         out=[]\n",
        "         for D in L:      #e.g., [D=-13.6470, D=-22.8235]\n",
        "             out.append(round(D,3))  #e.g., [-13.647,-22.824]\n",
        "         #for.D\n",
        "         print(out)\n",
        "    #for.L\n",
        "#show_2dim()\n",
        "\n",
        "##################  Main  ########################\n",
        "\n",
        "        # Height, Weight Data; 17\n",
        "Dat = [ [150,42], [153,51], [155,62], [157,50], [157,76],\n",
        "        [159,45], [161,72], [162,56], [164,65], [166,50],\n",
        "        [166,72], [168,75], [169,82], [170,63], [172,73],\n",
        "        [176,88], [177,80]\n",
        "      ]  \n",
        "                     # 02-NormalizeData\n",
        "Num = len(Dat)\n",
        "\n",
        "    # (Xa, Ya); average pt \n",
        "Xsum = 0\n",
        "Ysum = 0\n",
        "\n",
        "for j in range(0,Num):   # j=0,1,2,...,Num-1\n",
        "    Xsum += Dat[j][0]\n",
        "    Ysum += Dat[j][1]\n",
        "#for.j\n",
        "\n",
        "Xavg = Xsum / Num    # 163.5\n",
        "Yavg = Ysum / Num    # 64.8\n",
        "print(\"Xavg=\",round(Xavg,1),\"  Yavg=\",round(Yavg,1))\n",
        "input()\n",
        "\n",
        "DatN = np.zeros((17,2))   # init.DatN to zeros\n",
        "\n",
        "for j in range(0,Num):\n",
        "    DatN[j][0] = Dat[j][0]-Xavg\n",
        "    DatN[j][1] = Dat[j][1]-Yavg\n",
        "#for.j\n",
        "#print(\"DatN[]=\",DatN)\n",
        "print(\"DatN[]=\")\n",
        "SHOW_2Dim(DatN)\n",
        "input()\n",
        "                       # 03-slope\n",
        " # four areas; area1(+,+), area2(-,+), area3(-,-), area4(+,-)\n",
        " #             Ans; 7,2,6,2\n",
        "\n",
        " ##############  Fill-IN  #################\n",
        "\n",
        "\n",
        "              # Compute slope a; a=1 or a=-1\n",
        "\n",
        " ##############  Fill-IN  #################\n",
        "\n",
        "print(\"slope: a=\",a)        # Ans; a=1\n",
        "input()\n",
        "\n",
        "print(\"###############  End of Program  ################\")\n",
        "\n",
        "#//"
      ]
    }
  ]
}