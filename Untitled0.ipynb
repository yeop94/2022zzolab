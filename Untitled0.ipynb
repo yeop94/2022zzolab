{
  "nbformat": 4,
  "nbformat_minor": 0,
  "metadata": {
    "colab": {
      "provenance": [],
      "authorship_tag": "ABX9TyPjG3GaAVoz76mFCnhSyEy3",
      "include_colab_link": true
    },
    "kernelspec": {
      "name": "python3",
      "display_name": "Python 3"
    },
    "language_info": {
      "name": "python"
    }
  },
  "cells": [
    {
      "cell_type": "markdown",
      "metadata": {
        "id": "view-in-github",
        "colab_type": "text"
      },
      "source": [
        "<a href=\"https://colab.research.google.com/github/yeop94/2022zzolab/blob/main/Untitled0.ipynb\" target=\"_parent\"><img src=\"https://colab.research.google.com/assets/colab-badge.svg\" alt=\"Open In Colab\"/></a>"
      ]
    },
    {
      "cell_type": "code",
      "execution_count": null,
      "metadata": {
        "colab": {
          "base_uri": "https://localhost:8080/",
          "height": 596
        },
        "id": "f9-x7W4PtgkY",
        "outputId": "f8a59c7d-d15a-4d96-e98e-d72756e0e9c8"
      },
      "outputs": [
        {
          "output_type": "stream",
          "name": "stdout",
          "text": [
            "이름을 입력하세요 : 김밤준\n",
            "등록되지 않은 사용자입니다.\n",
            "이름을 입력하세요 : 김범준\n",
            "환영합니다! 김범준님!\n",
            "비밀번호를 입력하세요: 1111\n",
            "비밀번호를 확인해주세요.\n",
            "비밀번호를 입력하세요: 1234\n",
            "비밀번호를 확인해주세요.\n",
            "비밀번호를 입력하세요: 1203\n",
            "김범준님! 오늘의 건강상태를 체크해주세요!\n",
            "김범준님은 현재 코로나19가 의심되는 아래의 임상증상이 있나요? (예 또는 아니오)\n"
          ]
        },
        {
          "output_type": "error",
          "ename": "KeyboardInterrupt",
          "evalue": "ignored",
          "traceback": [
            "\u001b[0;31m---------------------------------------------------------------------------\u001b[0m",
            "\u001b[0;31mKeyboardInterrupt\u001b[0m                         Traceback (most recent call last)",
            "\u001b[0;32m<ipython-input-3-e4fba8dc6d2f>\u001b[0m in \u001b[0;36m<module>\u001b[0;34m\u001b[0m\n\u001b[1;32m     32\u001b[0m \u001b[0;34m\u001b[0m\u001b[0m\n\u001b[1;32m     33\u001b[0m \u001b[0mprint\u001b[0m\u001b[0;34m(\u001b[0m\u001b[0minput_Id\u001b[0m\u001b[0;34m+\u001b[0m\u001b[0;34m'님은 현재 코로나19가 의심되는 아래의 임상증상이 있나요? (예 또는 아니오)'\u001b[0m\u001b[0;34m)\u001b[0m\u001b[0;34m\u001b[0m\u001b[0;34m\u001b[0m\u001b[0m\n\u001b[0;32m---> 34\u001b[0;31m \u001b[0manswer1\u001b[0m \u001b[0;34m=\u001b[0m \u001b[0minput\u001b[0m\u001b[0;34m(\u001b[0m\u001b[0;34m''\u001b[0m\u001b[0;34m)\u001b[0m\u001b[0;34m\u001b[0m\u001b[0;34m\u001b[0m\u001b[0m\n\u001b[0m\u001b[1;32m     35\u001b[0m \u001b[0mprint\u001b[0m\u001b[0;34m(\u001b[0m\u001b[0minput_Id\u001b[0m\u001b[0;34m+\u001b[0m\u001b[0;34m'님은 오늘(어제 저녁 포함) 신속항원검사(자가진단)를 실시했나요? (예 또는 아니오)'\u001b[0m \u001b[0;34m)\u001b[0m\u001b[0;34m\u001b[0m\u001b[0;34m\u001b[0m\u001b[0m\n\u001b[1;32m     36\u001b[0m \u001b[0;34m\u001b[0m\u001b[0m\n",
            "\u001b[0;32m/usr/local/lib/python3.7/dist-packages/ipykernel/kernelbase.py\u001b[0m in \u001b[0;36mraw_input\u001b[0;34m(self, prompt)\u001b[0m\n\u001b[1;32m    861\u001b[0m             \u001b[0mself\u001b[0m\u001b[0;34m.\u001b[0m\u001b[0m_parent_ident\u001b[0m\u001b[0;34m,\u001b[0m\u001b[0;34m\u001b[0m\u001b[0;34m\u001b[0m\u001b[0m\n\u001b[1;32m    862\u001b[0m             \u001b[0mself\u001b[0m\u001b[0;34m.\u001b[0m\u001b[0m_parent_header\u001b[0m\u001b[0;34m,\u001b[0m\u001b[0;34m\u001b[0m\u001b[0;34m\u001b[0m\u001b[0m\n\u001b[0;32m--> 863\u001b[0;31m             \u001b[0mpassword\u001b[0m\u001b[0;34m=\u001b[0m\u001b[0;32mFalse\u001b[0m\u001b[0;34m,\u001b[0m\u001b[0;34m\u001b[0m\u001b[0;34m\u001b[0m\u001b[0m\n\u001b[0m\u001b[1;32m    864\u001b[0m         )\n\u001b[1;32m    865\u001b[0m \u001b[0;34m\u001b[0m\u001b[0m\n",
            "\u001b[0;32m/usr/local/lib/python3.7/dist-packages/ipykernel/kernelbase.py\u001b[0m in \u001b[0;36m_input_request\u001b[0;34m(self, prompt, ident, parent, password)\u001b[0m\n\u001b[1;32m    902\u001b[0m             \u001b[0;32mexcept\u001b[0m \u001b[0mKeyboardInterrupt\u001b[0m\u001b[0;34m:\u001b[0m\u001b[0;34m\u001b[0m\u001b[0;34m\u001b[0m\u001b[0m\n\u001b[1;32m    903\u001b[0m                 \u001b[0;31m# re-raise KeyboardInterrupt, to truncate traceback\u001b[0m\u001b[0;34m\u001b[0m\u001b[0;34m\u001b[0m\u001b[0;34m\u001b[0m\u001b[0m\n\u001b[0;32m--> 904\u001b[0;31m                 \u001b[0;32mraise\u001b[0m \u001b[0mKeyboardInterrupt\u001b[0m\u001b[0;34m(\u001b[0m\u001b[0;34m\"Interrupted by user\"\u001b[0m\u001b[0;34m)\u001b[0m \u001b[0;32mfrom\u001b[0m \u001b[0;32mNone\u001b[0m\u001b[0;34m\u001b[0m\u001b[0;34m\u001b[0m\u001b[0m\n\u001b[0m\u001b[1;32m    905\u001b[0m             \u001b[0;32mexcept\u001b[0m \u001b[0mException\u001b[0m \u001b[0;32mas\u001b[0m \u001b[0me\u001b[0m\u001b[0;34m:\u001b[0m\u001b[0;34m\u001b[0m\u001b[0;34m\u001b[0m\u001b[0m\n\u001b[1;32m    906\u001b[0m                 \u001b[0mself\u001b[0m\u001b[0;34m.\u001b[0m\u001b[0mlog\u001b[0m\u001b[0;34m.\u001b[0m\u001b[0mwarning\u001b[0m\u001b[0;34m(\u001b[0m\u001b[0;34m\"Invalid Message:\"\u001b[0m\u001b[0;34m,\u001b[0m \u001b[0mexc_info\u001b[0m\u001b[0;34m=\u001b[0m\u001b[0;32mTrue\u001b[0m\u001b[0;34m)\u001b[0m\u001b[0;34m\u001b[0m\u001b[0;34m\u001b[0m\u001b[0m\n",
            "\u001b[0;31mKeyboardInterrupt\u001b[0m: Interrupted by user"
          ]
        }
      ],
      "source": [
        "import time\n",
        "Id = ['김범준', '노영우', '박성공', '박희윤', '심우영']\n",
        "Passwd = [ '1201', '1202', '1203', '1204', '1205']\n",
        "\n",
        "\n",
        "\n",
        "while True:\n",
        "  input_Id = input('이름을 입력하세요 : ')\n",
        "  if input_Id in Id:\n",
        "    time.sleep(1)\n",
        "    print('환영합니다! '+input_Id+'님!')\n",
        "    time.sleep(1)\n",
        "    break\n",
        "   \n",
        "  else: \n",
        "    time.sleep(1)\n",
        "    print('등록되지 않은 사용자입니다.')\n",
        "    \n",
        "  \n",
        "while True:\n",
        "  input_PW = input('비밀번호를 입력하세요: ')\n",
        "  if input_PW in Passwd:\n",
        "    time.sleep(1)\n",
        "    print(input_Id+'님! 오늘의 건강상태를 체크해주세요!')\n",
        "    break\n",
        "  else:\n",
        "    time.sleep(1)\n",
        "    print('비밀번호를 확인해주세요.')\n",
        "    \n",
        "    \n",
        "\n",
        "    \n",
        "print(input_Id+'님은 현재 코로나19가 의심되는 아래의 임상증상이 있나요? (예 또는 아니오)')\n",
        "answer1 = input('')\n",
        "print(input_Id+'님은 오늘(어제 저녁 포함) 신속항원검사(자가진단)를 실시했나요? (예 또는 아니오)' )\n",
        "\n",
        "answer2 = input('')\n",
        "print(input_Id+'님은 PCR 등 검사를 받고 그 결과를 기다리고 있나요? (예 또는 아니오)')\n",
        "answer3 = input('')\n",
        " \n",
        "if answer1 == '예' or answer2 == '예' or answer3 == '예' :\n",
        "   print(input_Id+'님은 등교중지에 해당합니다. 담임교사에게 문자로 알려주세요.')\n",
        "else :\n",
        "   print(input_Id+'님은 오늘 등교 가능합니다.')\n",
        " \n",
        "\n"
      ]
    }
  ]
}