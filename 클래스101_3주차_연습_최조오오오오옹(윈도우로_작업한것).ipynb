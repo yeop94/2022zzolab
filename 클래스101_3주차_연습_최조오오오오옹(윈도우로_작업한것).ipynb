{
  "nbformat": 4,
  "nbformat_minor": 0,
  "metadata": {
    "colab": {
      "provenance": [],
      "authorship_tag": "ABX9TyODjQBfv6rNVShszY1+iqdm",
      "include_colab_link": true
    },
    "kernelspec": {
      "name": "python3",
      "display_name": "Python 3"
    },
    "language_info": {
      "name": "python"
    }
  },
  "cells": [
    {
      "cell_type": "markdown",
      "metadata": {
        "id": "view-in-github",
        "colab_type": "text"
      },
      "source": [
        "<a href=\"https://colab.research.google.com/github/yeop94/2022zzolab/blob/main/%ED%81%B4%EB%9E%98%EC%8A%A4101_3%EC%A3%BC%EC%B0%A8_%EC%97%B0%EC%8A%B5_%EC%B5%9C%EC%A1%B0%EC%98%A4%EC%98%A4%EC%98%A4%EC%98%A4%EC%98%B9(%EC%9C%88%EB%8F%84%EC%9A%B0%EB%A1%9C_%EC%9E%91%EC%97%85%ED%95%9C%EA%B2%83).ipynb\" target=\"_parent\"><img src=\"https://colab.research.google.com/assets/colab-badge.svg\" alt=\"Open In Colab\"/></a>"
      ]
    },
    {
      "cell_type": "markdown",
      "source": [
        "1. 우리 지역의 역대 최대기온은?\n"
      ],
      "metadata": {
        "id": "mowmbO4EfY3A"
      }
    },
    {
      "cell_type": "code",
      "execution_count": null,
      "metadata": {
        "colab": {
          "base_uri": "https://localhost:8080/"
        },
        "id": "UUk5uiygetXV",
        "outputId": "450d2e5a-8dde-4c1d-cf32-5cf7f95d8782"
      },
      "outputs": [
        {
          "output_type": "stream",
          "name": "stdout",
          "text": [
            "1974-01-26 -24.0\n"
          ]
        }
      ],
      "source": [
        "import csv\n",
        "data = csv.reader(open('gumitemp.csv', encoding = 'cp949'))\n",
        "next(data)\n",
        "memo = 1000\n",
        "date = ''\n",
        "for row in data:\n",
        "  if row[-1] != '':\n",
        "    if memo > float(row[-2]):\n",
        "      memo = float(row[-2])\n",
        "      date = row[0]\n",
        "    \n",
        "print(date, memo)"
      ]
    },
    {
      "cell_type": "code",
      "source": [
        "print('p' in 'python')"
      ],
      "metadata": {
        "colab": {
          "base_uri": "https://localhost:8080/"
        },
        "id": "w2T7ggdSft3D",
        "outputId": "0df49e81-848c-42d1-8218-fbb2390c1f82"
      },
      "execution_count": null,
      "outputs": [
        {
          "output_type": "stream",
          "name": "stdout",
          "text": [
            "True\n"
          ]
        }
      ]
    },
    {
      "cell_type": "code",
      "source": [
        "#기본코드\n",
        "import csv\n",
        "data = csv.reader(open('gumitemp.csv', encoding = 'cp949'))\n",
        "next(data)\n",
        "memo = 1000\n",
        "date = ''\n",
        "for row in data:\n",
        "  if row[-1] != '':\n",
        "    if '-09-28' in row[0]:\n",
        "      print(row)"
      ],
      "metadata": {
        "colab": {
          "base_uri": "https://localhost:8080/"
        },
        "id": "UnWydIA9hU94",
        "outputId": "7c45ac0d-f9c9-4a3e-819c-90e616ed65bf"
      },
      "execution_count": null,
      "outputs": [
        {
          "output_type": "stream",
          "name": "stdout",
          "text": [
            "['1973-09-28', '279', '13.1', '3.6', '22.9']\n",
            "['1974-09-28', '279', '17.7', '8.9', '27.3']\n",
            "['1975-09-28', '279', '18.5', '14.3', '22.8']\n",
            "['1976-09-28', '279', '15.6', '9.1', '24.4']\n",
            "['1977-09-28', '279', '19.7', '14.1', '26.1']\n",
            "['1978-09-28', '279', '17.3', '15.5', '20']\n",
            "['1979-09-28', '279', '17.1', '11', '24']\n",
            "['1980-09-28', '279', '15.3', '8.6', '26']\n",
            "['1981-09-28', '279', '16.2', '11.4', '20.1']\n",
            "['1982-09-28', '279', '16.6', '9.1', '23.8']\n",
            "['1983-09-28', '279', '17.9', '11.3', '21.7']\n",
            "['1984-09-28', '279', '17.7', '10.4', '25.8']\n",
            "['1985-09-28', '279', '15.9', '12', '18']\n",
            "['1986-09-28', '279', '16.7', '10.2', '23.1']\n",
            "['1987-09-28', '279', '14.3', '6.2', '25.1']\n",
            "['1988-09-28', '279', '17.1', '10.6', '24.4']\n",
            "['1989-09-28', '279', '18.8', '13.3', '23.8']\n",
            "['1990-09-28', '279', '18.3', '13.5', '26.1']\n",
            "['1991-09-28', '279', '17.1', '11.5', '23.4']\n",
            "['1992-09-28', '279', '13.3', '8.3', '19.6']\n",
            "['1993-09-28', '279', '17.7', '13.7', '23.8']\n",
            "['1994-09-28', '279', '16.4', '5.4', '27.9']\n",
            "['1995-09-28', '279', '15.2', '7.6', '24.3']\n",
            "['1996-09-28', '279', '17.1', '12.1', '23.1']\n",
            "['1997-09-28', '279', '15.8', '9.5', '24.4']\n",
            "['1998-09-28', '279', '18.6', '17.1', '20.8']\n",
            "['1999-09-28', '279', '19.2', '14.8', '28']\n",
            "['2000-09-28', '279', '16.2', '11.2', '22.2']\n",
            "['2001-09-28', '279', '17.9', '11.2', '25.6']\n",
            "['2002-09-28', '279', '19.8', '14.8', '26.7']\n",
            "['2003-09-28', '279', '19.2', '13.8', '26']\n",
            "['2004-09-28', '279', '19.5', '15.3', '26']\n",
            "['2005-09-28', '279', '16.6', '12.3', '24.8']\n",
            "['2006-09-28', '279', '17.7', '13.1', '24.6']\n",
            "['2007-09-28', '279', '19', '13.1', '23.8']\n",
            "['2008-09-28', '279', '14.8', '10', '19.8']\n",
            "['2009-09-28', '279', '19.7', '17.2', '23.8']\n",
            "['2010-09-28', '279', '15.8', '11', '21.7']\n",
            "['2011-09-28', '279', '17.1', '12.3', '22.3']\n",
            "['2012-09-28', '279', '18.9', '15.5', '24.8']\n",
            "['2013-09-28', '279', '17.7', '14.7', '21.9']\n",
            "['2014-09-28', '279', '20.9', '15.9', '27.5']\n",
            "['2015-09-28', '279', '21.4', '13.3', '29.5']\n",
            "['2016-09-28', '279', '22.4', '20.3', '25.7']\n",
            "['2017-09-28', '279', '20.4', '16.7', '26']\n",
            "['2018-09-28', '279', '16.3', '10.4', '21.1']\n",
            "['2019-09-28', '279', '22.9', '20.3', '26.9']\n",
            "['2020-09-28', '279', '16.6', '10.7', '24.3']\n",
            "['2021-09-28', '279', '21.5', '18.4', '24.5']\n"
          ]
        }
      ]
    },
    {
      "cell_type": "code",
      "source": [
        "#1. 내 생일 데이터만 리스트에 저장하기\n",
        "import csv\n",
        "data = csv.reader(open('gumitemp.csv', encoding = 'cp949'))\n",
        "next(data)\n",
        "x = []\n",
        "for row in data:\n",
        "  if row[-1] != '':\n",
        "    if '-09-28' in row[0]:\n",
        "      x.append(float(row[-1]))\n",
        "\n",
        "print(x)\n",
        "     "
      ],
      "metadata": {
        "colab": {
          "base_uri": "https://localhost:8080/"
        },
        "id": "Z0K-qrzThzz3",
        "outputId": "94267104-726f-49de-cd78-2b5c9f63e05a"
      },
      "execution_count": null,
      "outputs": [
        {
          "output_type": "stream",
          "name": "stdout",
          "text": [
            "[22.9, 27.3, 22.8, 24.4, 26.1, 20.0, 24.0, 26.0, 20.1, 23.8, 21.7, 25.8, 18.0, 23.1, 25.1, 24.4, 23.8, 26.1, 23.4, 19.6, 23.8, 27.9, 24.3, 23.1, 24.4, 20.8, 28.0, 22.2, 25.6, 26.7, 26.0, 26.0, 24.8, 24.6, 23.8, 19.8, 23.8, 21.7, 22.3, 24.8, 21.9, 27.5, 29.5, 25.7, 26.0, 21.1, 26.9, 24.3, 24.5]\n"
          ]
        }
      ]
    },
    {
      "cell_type": "code",
      "source": [
        "#그래프로 표현하기\n",
        "import matplotlib.pyplot as plt\n",
        "plt.plot(x)\n",
        "plt.show()"
      ],
      "metadata": {
        "colab": {
          "base_uri": "https://localhost:8080/",
          "height": 268
        },
        "id": "e09j1hdOiqaw",
        "outputId": "6a87f831-988b-4104-c7eb-cb6255435100"
      },
      "execution_count": null,
      "outputs": [
        {
          "output_type": "display_data",
          "data": {
            "text/plain": [
              "<Figure size 432x288 with 1 Axes>"
            ],
            "image/png": "[encoded data removed]"
          },
          "metadata": {
            "needs_background": "light"
          }
        }
      ]
    },
    {
      "cell_type": "code",
      "source": [
        "#그래프로 표현하기\n",
        "import matplotlib.pyplot as plt\n",
        "plt.boxplot(x)\n",
        "plt.show()"
      ],
      "metadata": {
        "colab": {
          "base_uri": "https://localhost:8080/",
          "height": 268
        },
        "id": "g1Hc1u7xjRNW",
        "outputId": "93567baa-4555-4d20-984e-c199c7a3f843"
      },
      "execution_count": null,
      "outputs": [
        {
          "output_type": "display_data",
          "data": {
            "text/plain": [
              "<Figure size 432x288 with 1 Axes>"
            ],
            "image/png": "[encoded data removed]"
          },
          "metadata": {
            "needs_background": "light"
          }
        }
      ]
    },
    {
      "cell_type": "code",
      "source": [
        "#3. 1년중 일교차가 가장 큰 달은 몇월일까요?\n",
        "# 1) 월별 기온 분포 확인하기\n",
        "date = '2000-01-01'\n",
        "print(date.split('-'))"
      ],
      "metadata": {
        "colab": {
          "base_uri": "https://localhost:8080/"
        },
        "id": "6785vzwWjdbW",
        "outputId": "1e3fe3da-9992-45e2-aff7-9f505f8d5017"
      },
      "execution_count": null,
      "outputs": [
        {
          "output_type": "stream",
          "name": "stdout",
          "text": [
            "['2000', '01', '01']\n"
          ]
        }
      ]
    },
    {
      "cell_type": "code",
      "source": [
        "import csv\n",
        "data = csv.reader(open('gumitemp.csv', encoding = 'cp949'))\n",
        "next(data)\n",
        "april = []\n",
        "oct = []\n",
        "for row in data:\n",
        "  if row[-1] and row[-2] != '':\n",
        "    if row[0].split('-')[1] == '04':\n",
        "      april.append(float(row[-1]) - float(row[-2]))\n",
        "    if row[0].split('-')[1] == '10':\n",
        "      oct.append(float(row[-1]) - float(row[-2]))\n",
        "\n",
        "import matplotlib.pyplot as plt\n",
        "plt.boxplot([april, oct])\n",
        "plt.show()"
      ],
      "metadata": {
        "colab": {
          "base_uri": "https://localhost:8080/",
          "height": 321
        },
        "id": "8ZeUD18YkRdU",
        "outputId": "26921992-3a13-43eb-acb3-192311f14ca6"
      },
      "execution_count": null,
      "outputs": [
        {
          "output_type": "stream",
          "name": "stderr",
          "text": [
            "/usr/local/lib/python3.7/dist-packages/matplotlib/cbook/__init__.py:1376: VisibleDeprecationWarning: Creating an ndarray from ragged nested sequences (which is a list-or-tuple of lists-or-tuples-or ndarrays with different lengths or shapes) is deprecated. If you meant to do this, you must specify 'dtype=object' when creating the ndarray.\n",
            "  X = np.atleast_1d(X.T if isinstance(X, np.ndarray) else np.asarray(X))\n"
          ]
        },
        {
          "output_type": "display_data",
          "data": {
            "text/plain": [
              "<Figure size 432x288 with 1 Axes>"
            ],
            "image/png": "[encoded data removed]"
          },
          "metadata": {
            "needs_background": "light"
          }
        }
      ]
    },
    {
      "cell_type": "code",
      "source": [
        "# 1년중에 일교차가 가장 큰 달은?\n",
        "x = []\n",
        "for i in range(12) :\n",
        "  x.append([])\n",
        "print(x)"
      ],
      "metadata": {
        "colab": {
          "base_uri": "https://localhost:8080/"
        },
        "id": "wIscUQoulILU",
        "outputId": "87841395-2142-4a57-a678-6c01566a95a7"
      },
      "execution_count": null,
      "outputs": [
        {
          "output_type": "stream",
          "name": "stdout",
          "text": [
            "[[], [], [], [], [], [], [], [], [], [], [], []]\n"
          ]
        }
      ]
    },
    {
      "cell_type": "code",
      "source": [
        "# 1년중에 일교차가 가장 큰 달은?\n",
        "import csv\n",
        "data = csv.reader(open('gumitemp.csv', encoding = 'cp949'))\n",
        "next(data)\n",
        "\n",
        "x = []\n",
        "for i in range(12) :\n",
        "  x.append([])\n",
        "print(x)\n",
        "\n",
        "for row in data:\n",
        "  if row[-1] and row[-2] != '':\n",
        "    x[int(row[0].split('-')[1]) - 1].append(float(row[-1]) - float(row[-2]))\n",
        "\n",
        "import matplotlib.pyplot as plt\n",
        "plt.boxplot(x)\n",
        "plt.show()"
      ],
      "metadata": {
        "colab": {
          "base_uri": "https://localhost:8080/",
          "height": 339
        },
        "id": "JqHXDUA7nIL4",
        "outputId": "e13af01e-8eea-4e16-af2f-596334c59c75"
      },
      "execution_count": null,
      "outputs": [
        {
          "output_type": "stream",
          "name": "stdout",
          "text": [
            "[[], [], [], [], [], [], [], [], [], [], [], []]\n"
          ]
        },
        {
          "output_type": "stream",
          "name": "stderr",
          "text": [
            "/usr/local/lib/python3.7/dist-packages/matplotlib/cbook/__init__.py:1376: VisibleDeprecationWarning: Creating an ndarray from ragged nested sequences (which is a list-or-tuple of lists-or-tuples-or ndarrays with different lengths or shapes) is deprecated. If you meant to do this, you must specify 'dtype=object' when creating the ndarray.\n",
            "  X = np.atleast_1d(X.T if isinstance(X, np.ndarray) else np.asarray(X))\n"
          ]
        },
        {
          "output_type": "display_data",
          "data": {
            "text/plain": [
              "<Figure size 432x288 with 1 Axes>"
            ],
            "image/png": "[encoded data removed]"
          },
          "metadata": {
            "needs_background": "light"
          }
        }
      ]
    },
    {
      "cell_type": "code",
      "source": [
        "# 4) 1년중 언제가 가장 덥고 언제가 가장 추울까요?\n",
        "import csv\n",
        "data = csv.reader(open('gumitemp.csv', encoding = 'cp949'))\n",
        "next(data)\n",
        "\n",
        "temp = []\n",
        "for i in range(31) :\n",
        "  temp.append([])\n",
        "\n",
        "\n",
        "for row in data:\n",
        "  if row[-1] != '':\n",
        "    if row[0].split('-')[1] == '01':\n",
        "      temp[int(row[0].split('-')[2]) - 1].append(float(row[-1]))\n",
        "print(temp) \n",
        "\n",
        "import matplotlib.pyplot as plt\n",
        "plt.boxplot(temp)\n",
        "plt.show()"
      ],
      "metadata": {
        "colab": {
          "base_uri": "https://localhost:8080/",
          "height": 303
        },
        "id": "6zZO7C6mqSSh",
        "outputId": "b9e979bc-a614-43ed-93a3-da273370fb3e"
      },
      "execution_count": null,
      "outputs": [
        {
          "output_type": "stream",
          "name": "stdout",
          "text": [
            "[[3.1, 8.1, 3.2, 9.8, -2.9, 5.8, 3.7, 5.4, 0.8, 1.9, 5.6, 5.7, 4.7, -1.6, 3.6, 4.2, 5.0, 1.4, 5.9, 7.2, 7.4, 4.2, 5.3, 5.6, 7.7, 8.9, 5.4, 8.1, 3.8, 3.7, 3.0, 9.8, 1.1, 7.0, 8.1, -0.8, 0.3, 1.5, 0.8, 4.2, -1.4, 9.5, -1.4, 7.6, 10.0, 5.8, 2.4, 4.8, 1.5, 5.1], [2.2, 10.0, 4.3, 11.0, -3.6, 3.3, 5.0, 5.6, -2.3, 5.6, 6.0, 5.9, 4.8, -2.4, 2.8, 5.9, 5.4, 1.9, 0.6, 6.8, 11.6, 9.8, 6.5, 8.6, -0.2, 9.0, 9.1, 10.7, 6.7, -1.7, 3.5, 9.5, 6.9, 8.0, 12.5, 3.5, 4.7, 3.5, 4.1, 2.3, -0.8, 9.8, 0.8, 10.3, 10.4, 6.8, 3.7, 7.1, 2.0, 7.0], [0.7, 9.9, 4.1, 6.2, -5.0, 0.8, 8.2, 8.7, -3.0, 4.8, 6.9, 2.1, 6.9, -1.6, 2.9, 8.5, 6.8, -0.2, 3.6, 4.4, 8.2, 11.2, 4.5, 7.6, 2.0, 11.0, 10.1, 6.6, 0.6, 2.4, 4.1, 9.6, 11.0, 5.0, 9.3, 7.6, 7.2, 1.8, 0.6, 3.4, -5.7, 9.8, 4.1, 13.1, 10.3, 3.7, 5.2, 8.1, 2.4, 4.9], [3.3, 6.6, 1.1, 11.3, -2.7, 2.0, 8.8, 4.6, -2.7, 5.9, 6.5, -0.8, 2.0, 1.5, 2.8, 3.8, 3.2, 2.6, -1.0, 4.2, 5.0, 5.0, 4.3, 2.8, 4.8, 8.5, 11.2, 7.0, -1.0, 10.3, -1.2, 10.1, 4.5, 0.2, 10.8, 7.8, 6.6, 1.7, 2.3, -1.8, -1.8, 8.4, 9.3, 11.0, 11.2, 3.7, 6.7, 8.4, 4.1, 7.2], [5.4, 7.5, 6.9, 1.9, -1.8, 3.4, 8.5, 0.6, -3.1, 7.1, 2.8, -1.7, 0.5, -9.3, 4.2, 5.9, 7.5, 4.1, -2.5, 3.6, 5.5, 6.7, 3.5, 3.6, 2.2, 5.6, 12.1, 6.8, 1.9, 6.4, -5.3, 8.8, 3.0, 0.8, 8.8, 7.8, 4.8, -1.8, 3.5, 1.3, 1.1, 7.3, 9.1, 4.9, 8.3, 5.6, 5.9, 9.3, 2.9, 3.7], [2.2, 8.0, 4.0, 1.0, 3.2, 8.0, 7.8, 4.6, -2.3, 4.1, 8.0, 0.4, 2.3, -1.5, 5.9, 6.9, 2.3, 2.4, 1.7, 5.9, 2.4, 9.0, 3.2, 7.2, -1.1, 6.3, 10.0, 7.7, 3.3, 7.5, 0.1, 8.6, 7.0, -0.4, 3.9, 10.8, 5.1, -2.1, -0.6, 4.8, 2.5, 8.1, 5.8, 5.9, 9.5, 6.5, 6.6, 2.4, 0.6, 7.4], [2.0, 8.1, 2.3, 8.7, 4.0, 10.0, 10.3, -3.8, 1.3, 4.9, 7.5, 3.4, -0.7, 2.9, 3.1, 5.2, 3.0, 4.4, -0.8, 6.7, 1.3, 3.9, 12.2, 6.4, 1.9, 4.5, 2.3, 0.8, 2.5, 5.5, 2.2, 8.3, 4.5, 0.4, 3.5, 10.3, 6.7, -1.3, 0.4, 4.4, 2.3, 9.1, 1.8, 5.1, 7.8, 2.6, 5.4, 11.5, -2.2, 8.1], [4.2, 7.5, 6.5, 5.8, 2.0, 9.0, 12.3, 1.8, 4.1, 4.3, 3.7, 4.1, 1.2, -1.2, 7.3, 8.1, 8.5, 4.3, -1.2, 5.9, 2.1, 7.1, 9.5, 6.4, 4.2, 2.4, -1.0, 4.0, 10.0, 0.3, 4.6, 7.4, 3.0, 4.3, 4.8, 8.0, 7.2, 1.9, 4.0, 5.6, 2.9, 6.2, 4.0, 5.4, 12.5, 4.9, 4.8, 14.4, -5.7, 7.8], [4.9, 6.9, 2.0, 0.8, 4.4, 4.5, 13.0, 6.7, 5.4, 6.8, -3.1, 6.4, 3.5, -2.0, 6.1, 1.0, 10.2, 7.7, 3.3, 6.2, 3.7, 10.6, 9.3, 0.6, 4.2, 6.5, -1.3, 1.0, 4.9, 5.4, 5.8, 8.8, 0.0, 6.0, 5.8, 8.7, 3.2, 3.4, 1.7, 5.3, -1.4, -0.3, 5.6, 6.8, 9.6, 2.5, 2.7, 6.5, -2.6, 8.9], [3.3, 7.8, 1.0, -1.2, 3.0, 0.0, 13.8, 2.1, -1.0, 7.4, -2.3, 10.0, 0.0, -3.7, 0.3, -1.3, 10.0, 7.9, 5.3, 7.7, 7.7, 9.9, 2.1, 4.8, 5.0, 7.6, 0.6, 6.7, 3.0, 9.1, 5.8, 8.3, 2.4, 7.4, 6.3, 9.9, -0.9, 2.9, -1.1, 4.8, -1.2, 2.9, 7.1, 7.9, 5.9, 0.9, 5.7, 7.5, 0.4, 8.1], [3.0, 6.7, -0.6, -1.2, 2.6, 6.5, 5.7, 0.1, 0.0, 9.7, 1.8, 3.7, 3.8, -2.0, 2.9, 2.8, 8.0, 8.7, 4.9, 8.7, 4.1, 8.8, 1.8, 7.0, 6.4, 5.1, 2.8, 7.2, 2.3, 12.8, 6.8, 7.8, 1.2, 6.8, 5.4, 4.4, 1.4, 1.9, 2.2, 0.7, 2.4, 5.2, 6.7, 5.3, 3.8, -3.0, 7.5, 7.4, -1.3, 3.9], [4.8, 6.4, 1.2, 2.8, 2.1, 9.5, 4.7, 1.3, 1.1, 4.2, 3.0, 5.3, 0.6, 2.4, -0.7, 5.5, 3.7, 4.0, 3.5, 7.0, 4.5, 7.6, 5.7, 8.6, 4.2, 5.2, 2.6, 5.2, -2.5, 12.8, 9.8, 6.5, 1.1, 5.8, 4.5, 5.0, -0.8, -0.8, -1.3, 2.6, 7.8, 5.8, 5.8, 4.9, 8.3, -2.8, 6.8, 6.1, 4.4, 1.7], [4.4, 6.4, 3.6, 7.0, -3.6, 4.4, 1.9, 2.6, -1.4, 0.1, 2.3, 4.5, -3.9, 0.7, -5.2, 9.5, 3.0, 1.1, 1.6, 5.3, 2.5, 6.7, 1.9, 7.5, 9.4, 5.1, 4.4, 7.1, -1.4, 13.1, 12.8, 1.2, 1.8, 5.5, 2.7, 3.2, 1.5, -3.8, 1.4, 5.8, 3.4, 2.0, 8.0, 2.9, 5.1, 3.8, 6.0, 4.8, 10.9, 1.1], [5.5, 7.5, 6.0, 3.2, -1.3, 8.1, -1.4, 2.3, 0.5, -1.0, 5.5, 6.3, -4.8, 3.4, 1.1, 11.3, 3.7, 3.2, -0.1, 6.3, 0.7, 4.8, 0.8, 9.1, 5.3, 6.3, 5.3, 5.3, -5.9, 15.3, 6.3, 3.4, 4.3, 8.5, 5.5, 4.4, 0.5, 0.2, 3.6, 5.3, 5.6, 4.5, 5.3, 4.2, -0.8, 5.9, 4.2, 6.3, 11.4, 3.8], [9.4, 5.1, 5.9, 2.4, -1.0, 4.3, -1.0, 0.4, -0.9, 0.7, 5.7, 5.9, 3.2, 5.7, 7.9, 9.6, 4.9, 1.7, 5.2, 6.2, -0.8, 6.9, 5.1, 4.9, 5.8, 5.3, 3.6, 6.1, -6.4, 12.6, 4.5, 6.4, 4.4, 7.4, 8.5, 3.9, 0.6, 3.5, -1.1, 4.4, 5.6, 4.8, 10.7, 6.1, 2.1, 12.3, 7.3, 5.0, 15.1, 8.1], [4.8, 1.2, 0.8, 4.5, 1.2, 3.1, 3.6, 2.3, -2.3, -0.7, 8.3, -3.3, -2.5, 7.0, 7.0, 3.7, 5.6, 4.0, 6.3, 4.9, -1.9, 6.5, 6.8, 2.8, 7.1, 7.9, 6.9, 10.1, -3.8, 11.1, 8.6, 6.8, 2.7, 3.9, 7.0, 0.9, 5.4, 4.1, -4.9, 5.8, 3.3, 6.1, 7.9, 8.0, 4.8, 10.1, 2.8, 6.8, 6.1, 6.6], [4.7, 3.5, -0.7, 4.9, 2.1, 5.7, 6.8, -0.3, 0.1, 1.6, 4.5, -0.5, 0.5, 7.9, 5.9, 3.4, 8.3, 6.5, 4.5, 1.3, 1.1, 4.7, 6.8, 2.4, 6.6, 5.2, 7.5, 5.1, 0.1, 6.0, 10.5, 6.3, 6.9, 8.5, 8.8, -0.6, 8.2, 5.3, -0.6, 7.6, 0.5, 6.6, 4.6, 2.9, 4.8, 7.9, 4.8, 6.6, 1.4, 4.7], [4.7, 3.1, -1.5, 0.7, 2.2, 2.1, 2.4, -1.6, 3.6, 0.5, 4.1, -1.8, 3.8, 9.6, 1.6, 4.3, 0.3, 6.1, 5.1, 0.7, -2.7, 0.6, 7.3, 3.7, 3.8, 2.9, 9.8, 6.1, 3.0, 4.8, 9.6, 5.3, 8.1, 8.0, 8.3, 3.0, 6.1, 8.9, 0.6, 5.9, 3.0, 4.7, 6.7, 3.7, 6.9, 8.9, 8.6, 8.5, 5.1, 3.0], [5.0, 5.0, -0.2, -1.7, 2.4, 2.9, -0.7, 1.4, 0.7, -2.6, -0.1, 1.4, 1.4, 10.2, 0.8, 8.8, 2.0, 1.5, 7.4, 3.0, -1.4, -0.8, 4.6, 4.3, 6.6, -1.6, 10.1, 0.5, 3.8, 10.1, 6.8, 4.1, 3.5, 6.0, 7.9, 3.9, 7.0, 8.8, 0.8, 7.5, 6.4, 5.1, 6.2, -3.9, 6.6, 7.2, 8.7, 8.3, 2.7, 5.0], [7.2, 3.4, 3.5, -4.6, 2.7, 4.2, 6.0, 0.3, 0.2, 1.2, -2.6, 1.3, 3.1, 6.8, 3.8, 7.0, 5.9, -1.5, 10.8, 5.9, -1.5, 0.9, 6.4, 6.2, 10.2, 2.1, 4.1, -1.6, 6.7, 7.6, 5.0, 2.7, 1.1, 8.3, 9.3, 2.7, 8.6, 7.7, -0.3, 10.0, 5.6, 5.3, 6.7, -1.4, 1.2, 8.0, 6.6, 8.6, 6.9, 4.3], [6.3, 3.6, 4.0, -3.0, 1.0, -0.9, 5.3, -0.5, 0.2, 8.9, -2.3, 3.5, 5.3, 4.4, 5.2, 3.9, 8.7, 2.9, 4.6, 5.8, 0.9, 0.8, 3.9, 5.3, 0.8, 3.2, 6.5, 1.3, 4.5, 6.5, 5.0, -1.7, 3.5, 8.6, 10.1, 4.0, 6.7, 8.9, 1.2, 8.6, 3.0, 0.8, 6.1, 0.0, 3.6, 8.4, 7.7, 7.6, 10.4, 6.2], [8.8, 3.2, 4.5, -2.7, -0.2, 2.3, 4.4, -0.5, -0.8, 4.0, -1.2, -1.4, 7.5, -0.3, 8.0, 8.4, 5.3, -2.2, 4.5, 5.2, 3.6, 1.9, 3.3, 6.8, 3.3, 2.4, 9.6, 1.0, 3.8, 1.8, 0.3, -3.7, 4.5, 5.0, 8.8, 2.9, 9.2, 0.9, 3.4, 4.4, 6.8, 4.0, 5.8, 1.4, 0.7, 8.8, 10.5, 4.4, 9.5, 9.1], [8.5, -1.0, 7.1, -3.9, 2.7, 3.4, 10.3, 6.2, 2.8, 7.5, 4.3, 2.6, 5.9, 5.2, 3.9, -2.8, 8.9, -4.3, 8.1, 3.1, 3.3, -3.1, 7.1, 5.2, 1.1, 0.9, 7.5, 3.7, 6.0, 2.0, 2.7, 0.8, 10.3, 5.5, 7.6, 3.5, 6.9, 2.1, 3.3, -2.4, 3.3, 8.1, 6.5, -2.5, -0.5, 2.2, 10.5, 8.5, 12.0, 11.5], [8.4, -5.8, 1.9, 2.7, 5.2, 9.9, 9.7, 5.6, 1.7, 8.4, 7.3, 3.2, 2.1, 1.9, -0.9, -2.2, 5.2, -6.2, 2.9, 5.4, 6.6, 1.6, 3.2, 2.5, 2.7, -3.8, 12.0, 5.6, 4.4, 4.5, 4.0, 0.4, 6.8, 5.4, 10.0, -0.7, -0.4, 6.6, -1.4, -0.6, 5.3, 10.7, 9.1, -7.4, 2.5, -5.8, 9.0, 10.9, 12.4, 8.0], [6.3, -4.2, 7.5, 7.2, 3.0, 9.6, 7.6, 7.3, -1.0, 7.4, 8.3, -1.6, 2.6, 0.4, -1.1, 0.3, 4.9, -6.0, 5.1, 8.7, 9.2, 6.7, 6.8, 1.3, 5.4, 3.3, 11.4, 1.5, 7.3, 5.8, 3.9, 0.3, 3.0, 7.0, 8.6, 1.6, 2.5, 6.1, -0.5, -2.0, -0.5, 10.6, 6.6, 0.1, 3.7, -4.0, 5.9, 9.8, 13.3, 4.8], [4.9, -1.0, 3.8, 5.2, 3.9, 6.7, 13.7, 8.7, -2.0, 5.2, 9.2, -2.4, 6.1, -1.5, 2.6, 2.0, 8.9, -2.3, 4.0, 6.9, 5.2, 7.2, 2.6, 2.3, 8.6, 3.8, 10.0, -0.9, 4.6, 2.7, 1.2, 2.5, 5.4, 7.9, 5.1, 4.8, 2.0, 4.7, -0.3, 3.9, -0.3, 8.0, 9.5, 4.4, 7.6, -3.3, 4.2, 11.1, 7.6, 7.2], [2.4, -1.4, 4.9, 4.8, -2.3, 3.2, 13.1, 12.7, -1.3, 1.1, 9.2, -2.7, 7.6, 0.1, 5.8, 6.5, -1.5, 3.0, 4.9, 9.4, 1.4, 3.4, 4.1, 6.3, 8.2, 4.1, 13.1, 2.9, 5.3, 4.4, 4.3, 3.0, 7.8, 8.0, 5.1, 6.5, 4.8, 4.9, 0.2, 6.9, -0.2, 9.8, 6.1, 7.7, 7.7, 1.4, 7.9, 7.5, 10.5, 8.9], [5.1, -2.1, 2.4, 5.0, -3.0, 4.1, 7.7, 14.5, 2.2, -3.0, 10.6, -2.7, -1.2, 7.0, 8.8, 8.0, -1.8, 1.9, 6.0, 7.8, 0.2, 4.8, 2.0, 7.8, 3.9, 3.3, 5.2, 6.9, 3.9, 3.0, 0.5, 6.0, 10.1, 8.8, 5.8, 3.9, 8.8, 8.4, 0.8, 6.7, 4.8, 11.3, 4.5, 3.2, 8.5, 2.9, 8.5, 10.8, 9.8, 6.4], [5.0, 0.2, 0.2, 5.0, -3.9, 3.3, 5.6, 5.5, 2.9, -2.4, 12.9, 2.6, -4.8, 9.0, 11.2, 4.5, 3.6, 4.0, 7.8, 8.7, 3.5, 3.8, 2.5, 6.8, 4.5, 6.3, 2.8, 4.9, 4.9, 3.2, -5.0, 8.8, 4.9, 12.1, 8.3, 5.8, 5.1, 6.3, -1.4, 5.5, 8.2, 11.3, 3.3, 2.7, 5.8, -0.7, 8.5, 9.7, -0.4, 5.2], [3.9, 4.2, 3.6, 3.5, -3.9, -0.4, 9.2, 1.2, 3.8, 1.0, 6.5, 4.3, -3.1, 8.5, 3.0, 0.6, 6.4, 3.0, 7.6, 5.9, 5.7, 3.3, 1.0, 1.1, 6.0, 7.1, 3.3, 3.0, 5.8, 5.0, 0.6, 9.1, 0.0, 13.6, 6.1, 2.8, 8.6, 8.3, -2.7, 3.0, 11.2, 13.1, 4.4, 6.7, 4.4, 2.3, 11.5, 10.9, 8.9, 6.7], [5.7, 4.9, 4.4, 8.8, -2.3, -1.1, 4.7, -4.7, 5.3, 0.4, 9.4, 5.8, 3.8, 3.4, 0.4, 3.2, 2.7, 1.4, 6.0, 0.8, 9.1, 4.3, 2.4, 2.4, 8.2, 8.6, 8.6, 0.5, 3.8, 4.3, 4.5, 11.3, 1.3, 6.5, 5.3, 2.5, 10.1, 9.8, 1.3, 4.1, 12.8, 12.8, 3.6, 4.0, 5.2, 6.1, 6.1, 9.5, 11.5, 7.3]]\n"
          ]
        },
        {
          "output_type": "display_data",
          "data": {
            "text/plain": [
              "<Figure size 432x288 with 1 Axes>"
            ],
            "image/png": "[encoded data removed]"
          },
          "metadata": {
            "needs_background": "light"
          }
        }
      ]
    },
    {
      "cell_type": "code",
      "source": [
        " "
      ],
      "metadata": {
        "id": "6MATWSfCrq0O"
      },
      "execution_count": null,
      "outputs": []
    }
  ]
}