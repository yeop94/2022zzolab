{
  "nbformat": 4,
  "nbformat_minor": 0,
  "metadata": {
    "colab": {
      "provenance": [],
      "authorship_tag": "ABX9TyMqFPvNCSj1hIpg0tZx2x3J",
      "include_colab_link": true
    },
    "kernelspec": {
      "name": "python3",
      "display_name": "Python 3"
    },
    "language_info": {
      "name": "python"
    }
  },
  "cells": [
    {
      "cell_type": "markdown",
      "metadata": {
        "id": "view-in-github",
        "colab_type": "text"
      },
      "source": [
        "<a href=\"https://colab.research.google.com/github/yeop94/2022zzolab/blob/main/20220927_%EB%8C%80%ED%95%99%EC%9B%90%EC%88%98%EC%97%85_LR%EC%9D%B4%EB%9E%80%3F_.ipynb\" target=\"_parent\"><img src=\"https://colab.research.google.com/assets/colab-badge.svg\" alt=\"Open In Colab\"/></a>"
      ]
    },
    {
      "cell_type": "code",
      "execution_count": 18,
      "metadata": {
        "colab": {
          "base_uri": "https://localhost:8080/",
          "height": 1000
        },
        "id": "6o-ckmtXfzTD",
        "outputId": "d76d76bd-e99e-44ec-b9a8-27ed757c2942"
      },
      "outputs": [
        {
          "name": "stdout",
          "output_type": "stream",
          "text": [
            "[LR-02-NormalizeData.py]>> \n",
            "Dat[]=\n",
            "[150, 42]\n",
            "[153, 51]\n",
            "[155, 62]\n",
            "[157, 50]\n",
            "[157, 76]\n",
            "[159, 45]\n",
            "[161, 72]\n",
            "[162, 56]\n",
            "[164, 65]\n",
            "[166, 50]\n",
            "[166, 72]\n",
            "[168, 75]\n",
            "[169, 82]\n",
            "[170, 63]\n",
            "[172, 73]\n",
            "[176, 88]\n",
            "[177, 80]\n",
            "2782\n",
            "1102\n",
            "Xavg= 163.6 Yagv= 64.8\n",
            "\n",
            "DatN[] = \n",
            "[-13.647, -22.824]\n",
            "[-10.647, -13.824]\n",
            "[-8.647, -2.824]\n",
            "[-6.647, -14.824]\n",
            "[-6.647, 11.176]\n",
            "[-4.647, -19.824]\n",
            "[-2.647, 7.176]\n",
            "[-1.647, -8.824]\n",
            "[0.353, 0.176]\n",
            "[2.353, -14.824]\n",
            "[2.353, 7.176]\n",
            "[4.353, 10.176]\n",
            "[5.353, 17.176]\n",
            "[6.353, -1.824]\n",
            "[8.353, 8.176]\n",
            "[12.353, 23.176]\n",
            "[13.353, 15.176]\n",
            "\n"
          ]
        },
        {
          "output_type": "display_data",
          "data": {
            "text/plain": [
              "<Figure size 432x288 with 1 Axes>"
            ],
            "image/png": "[encoded data removed]"
          },
          "metadata": {
            "needs_background": "light"
          }
        },
        {
          "output_type": "stream",
          "name": "stdout",
          "text": [
            "###############  End of Program  ################\n"
          ]
        }
      ],
      "source": [
        "print(\"[LR-02-NormalizeData.py]>> \")\n",
        "import numpy as np\n",
        "import matplotlib.pyplot as plt\n",
        "\n",
        "\n",
        "#######  SHOW_2Dim()  ######\n",
        "# e.g... List = [[150,42], [153,51],[155,62]]\n",
        "#           [ [150,42]\n",
        "#            [153,51]\n",
        "#            [155,62] ]\n",
        "\n",
        "def SHOW_2Dim(List):\n",
        "  for L in List:      # e.g... L =[150,42], L = [153,51], L = [155,62]\n",
        "    out = []\n",
        "    for D in L:       # e.g...L = [150,42]  --> D = 150 , D = 42\n",
        "                      #       L = [153,51]  --> D = 153 , D = 51\n",
        "                      #       L = [155,62]  --> D = 155 , D = 62\n",
        "      out.append(round(D,3))      # e.g... L=[150,42]  --> D = 150; out = [150]\n",
        "                         #                    --> D = 42; out = [150,42]\n",
        "      #print(out)         # e,g,, L=[150,42]  --> [150,42]\n",
        "    #for.L\n",
        "    print(out)\n",
        "\n",
        "#for.D\n",
        "\n",
        "#######################     MAIN     #########################\n",
        "        # Height, Weight Data; 17\n",
        "Dat = [ [150,42], [153,51], [155,62], [157,50], [157,76],\n",
        "          [159,45], [161,72], [162,56], [164,65], [166,50],\n",
        "          [166,72], [168,75], [169,82], [170,63], [172,73],\n",
        "          [176,88], [177,80]\n",
        "        ]  \n",
        "\n",
        "print('Dat[]=')\n",
        "SHOW_2Dim(Dat)\n",
        "\n",
        "\n",
        " # average 구하기 \n",
        " # average Pt;(Xavg, Yavg)\n",
        "Num = len(Dat)    #nbr of rows of Dat[]\n",
        "\n",
        "Xsum = 0\n",
        "Ysum = 0\n",
        "\n",
        "for i in range(0,Num):           # i = 0,1,2,,,,,,,Num-1\n",
        "  Xsum += Dat[i][0]\n",
        "  Ysum += Dat[i][1]  \n",
        "\n",
        "print(Xsum)\n",
        "print(Ysum)\n",
        "\n",
        "\n",
        "Xavg = Xsum / Num\n",
        "Yavg = Ysum / Num\n",
        "\n",
        "print('Xavg=',round(Xavg,1),'Yagv=',round(Yavg,1))\n",
        "\n",
        "input()\n",
        "########     Normalization of Data; DatN[]   #####\n",
        "\n",
        "DatN = np.zeros((17,2))\n",
        "\n",
        "for j in range(0,Num):\n",
        "  DatN[j][0] = Dat[j][0] - Xavg\n",
        "  DatN[j][1] = Dat[j][1] - Yavg\n",
        "\n",
        "print('DatN[] = ')\n",
        "\n",
        "SHOW_2Dim(DatN)\n",
        "\n",
        "input()\n",
        "plt.plot(DatN)\n",
        "plt.show()\n",
        "\n",
        "\n",
        "print(\"###############  End of Program  ################\")"
      ]
    },
    {
      "cell_type": "code",
      "source": [
        "\n"
      ],
      "metadata": {
        "id": "hJ1d3ZfSjSQI"
      },
      "execution_count": null,
      "outputs": []
    }
  ]
}