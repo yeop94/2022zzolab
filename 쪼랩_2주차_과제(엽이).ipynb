{
  "nbformat": 4,
  "nbformat_minor": 0,
  "metadata": {
    "colab": {
      "provenance": [],
      "authorship_tag": "ABX9TyMFB+iXN82Js3JZzEJEnR9V",
      "include_colab_link": true
    },
    "kernelspec": {
      "name": "python3",
      "display_name": "Python 3"
    },
    "language_info": {
      "name": "python"
    }
  },
  "cells": [
    {
      "cell_type": "markdown",
      "metadata": {
        "id": "view-in-github",
        "colab_type": "text"
      },
      "source": [
        "<a href=\"https://colab.research.google.com/github/yeop94/2022zzolab/blob/main/%EC%AA%BC%EB%9E%A9_2%EC%A3%BC%EC%B0%A8_%EA%B3%BC%EC%A0%9C(%EC%97%BD%EC%9D%B4).ipynb\" target=\"_parent\"><img src=\"https://colab.research.google.com/assets/colab-badge.svg\" alt=\"Open In Colab\"/></a>"
      ]
    },
    {
      "cell_type": "markdown",
      "source": [
        "# 쪼랩 2주차 과제 - 명단을 이용해서 재밌는 코딩 만들어보기\n",
        "\n",
        "\n",
        "### 1) 체육전담일 때 학기 초 조를 편성해야함\n",
        "### 2) 조를 편성할 기준으로 50m달리기 기록을 이용하는게 좋다고 함\n",
        "### 3) 각 반 명부를 받고 50미터 기록만 입력하면 자동으로 4개조로 편성 \n",
        "### 4) 달리기 1등부터 1조-2조-3조-4조-4조-3조-2조-1조-1조-2조-3조-4조- --- 방식으로 편성하려고함.\n"
      ],
      "metadata": {
        "id": "TK5WZTYlfZaq"
      }
    },
    {
      "cell_type": "code",
      "execution_count": null,
      "metadata": {
        "colab": {
          "base_uri": "https://localhost:8080/"
        },
        "id": "NanF9t4Ie38L",
        "outputId": "32e6943e-45ab-4bb4-af21-65718df83de3"
      },
      "outputs": [
        {
          "output_type": "stream",
          "name": "stdout",
          "text": [
            "1\n",
            "번 학생의\n",
            "50미터 달리기 기록을 입력해주세요: 5.43\n",
            "2\n",
            "번 학생의\n",
            "50미터 달리기 기록을 입력해주세요: 4.78\n",
            "3\n",
            "번 학생의\n",
            "50미터 달리기 기록을 입력해주세요: 9.87\n",
            "4\n",
            "번 학생의\n",
            "50미터 달리기 기록을 입력해주세요: 4.55\n",
            "5\n",
            "번 학생의\n",
            "50미터 달리기 기록을 입력해주세요: 6.\n",
            "6\n",
            "번 학생의\n",
            "50미터 달리기 기록을 입력해주세요: 2.14\n",
            "7\n",
            "번 학생의\n",
            "50미터 달리기 기록을 입력해주세요: 4.43\n",
            "8\n",
            "번 학생의\n",
            "50미터 달리기 기록을 입력해주세요: 2.48\n",
            "9\n",
            "번 학생의\n",
            "50미터 달리기 기록을 입력해주세요: 6.48\n",
            "10\n",
            "번 학생의\n",
            "50미터 달리기 기록을 입력해주세요: 7.56\n",
            "11\n",
            "번 학생의\n",
            "50미터 달리기 기록을 입력해주세요: 8.41\n",
            "12\n",
            "번 학생의\n",
            "50미터 달리기 기록을 입력해주세요: 6.44\n",
            "13\n",
            "번 학생의\n",
            "50미터 달리기 기록을 입력해주세요: 5.14\n",
            "14\n",
            "번 학생의\n",
            "50미터 달리기 기록을 입력해주세요: 3.47\n",
            "15\n",
            "번 학생의\n",
            "50미터 달리기 기록을 입력해주세요: 6.41\n",
            "16\n",
            "번 학생의\n",
            "50미터 달리기 기록을 입력해주세요: 4.98\n",
            "17\n",
            "번 학생의\n",
            "50미터 달리기 기록을 입력해주세요: 6.47\n",
            "18\n",
            "번 학생의\n",
            "50미터 달리기 기록을 입력해주세요: 5.14\n",
            "19\n",
            "번 학생의\n",
            "50미터 달리기 기록을 입력해주세요: 3.75\n",
            "20\n",
            "번 학생의\n",
            "50미터 달리기 기록을 입력해주세요: 9.47\n",
            "21\n",
            "번 학생의\n",
            "50미터 달리기 기록을 입력해주세요: 4.15\n",
            "22\n",
            "번 학생의\n",
            "50미터 달리기 기록을 입력해주세요: 6.41\n",
            "('김승우', '2.14', '강채연', '4.78', '이시우', '4.98', '손민서', '6.44', '장현승', '6.47')\n",
            "('민수예', '2.48', '김도균', '4.55', '심현지', '5.14', '라홍윤', '6.41', '배성주', '6.48')\n",
            "('오호연', '3.47', '김승은', '4.43', '전민결', '5.14', '이수빈', '6.41', '백인우', '7.56', '김관회', '9.87')\n",
            "('정연화', '3.75', '김민정', '4.15', '강윤아', '5.43', '김성윤', '6.', '서혜원', '8.41', '김관회', '9.87')\n"
          ]
        }
      ],
      "source": [
        "from typing import Dict\n",
        "import random\n",
        "data = open('우리반명단.txt')    # 학급 명단 불러오기\n",
        "\n",
        "names = []\n",
        "for row in data:\n",
        "  names.append(row.strip())  # 학급명단으로 리스트 만들기\n",
        "\n",
        "score = []\n",
        "for i in range(len(names)):\n",
        "  print(i+1)\n",
        "  print('번 학생의')\n",
        "  sc = input('50미터 달리기 기록을 입력해주세요: ')\n",
        "  score.append(sc) # 명단 1번학생부터 50m달리기 기록 입력하기 \n",
        "\n",
        "my_dict = dict(zip(names, score))  # 학생 명단 리스트와 달리기 기록 리스트를 딕셔너리로 합치기\n",
        "\n",
        "sorted_dict = sorted(my_dict.items(), key = lambda item: item[1]) # 딕셔너리에서 달리기 기록(키값)이 빠른순으로 명단(밸류값)을 정렬\n",
        "\n",
        "lst = list(sorted_dict) # 딕셔너리를 다시 리스트로 전환?\n",
        "\n",
        "group1 = lst[0] + lst[7] + lst[8] + lst[15] + lst[16]\n",
        "group2 = lst[1] + lst[6] + lst[9] + lst[14] + lst[17]\n",
        "group3 = lst[2] + lst[5] + lst[10] + lst[13] + lst[18] + lst[21]\n",
        "group4 = lst[3] + lst[4] + lst[11] + lst[12] + lst[19] + lst[20]  ## 여기서 숫자를 하나씩 다 입력했는데.. 학급별로 명수가 다르니.. 숫자를 함수로 나타낼 수 있는 방법을 생각해봐야할듯\n",
        "\n",
        "print(group1)\n",
        "print(group2)\n",
        "print(group3)\n",
        "print(group4)"
      ]
    }
  ]
}